{
 "cells": [
  {
   "cell_type": "code",
   "execution_count": 2,
   "metadata": {},
   "outputs": [
    {
     "name": "stdout",
     "output_type": "stream",
     "text": [
      "4.6848e-41\n"
     ]
    }
   ],
   "source": [
    "# libraries\n",
    "import matplotlib.pyplot as plt\n",
    "import numpy as np\n",
    "from scipy.stats import kde\n",
    "import numpy as np\n",
    "import torch\n",
    "from experiments.test_functions import u1\n",
    "\n",
    "\n",
    "# create data\n",
    "size = 5\n",
    " \n",
    "nbins = 1000\n",
    "xi, yi = np.mgrid[-size:size:nbins*1j, -size:size:nbins*1j]\n",
    "\n",
    "wi = torch.Tensor(np.vstack([xi.flatten(), yi.flatten()])).T\n",
    "# zi = u1()\n",
    "zi = u1(wi).detach().numpy()\n",
    "\n",
    "print(np.min(zi))"
   ]
  },
  {
   "cell_type": "code",
   "execution_count": null,
   "metadata": {},
   "outputs": [],
   "source": []
  }
 ],
 "metadata": {
  "interpreter": {
   "hash": "31f2aee4e71d21fbe5cf8b01ff0e069b9275f58929596ceb00d14d90e3e16cd6"
  },
  "kernelspec": {
   "display_name": "Python 3.7.13 64-bit",
   "language": "python",
   "name": "python3"
  },
  "language_info": {
   "codemirror_mode": {
    "name": "ipython",
    "version": 3
   },
   "file_extension": ".py",
   "mimetype": "text/x-python",
   "name": "python",
   "nbconvert_exporter": "python",
   "pygments_lexer": "ipython3",
   "version": "3.7.13"
  },
  "orig_nbformat": 4
 },
 "nbformat": 4,
 "nbformat_minor": 2
}
